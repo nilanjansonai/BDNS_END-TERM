{
  "nbformat": 4,
  "nbformat_minor": 0,
  "metadata": {
    "colab": {
      "provenance": []
    },
    "kernelspec": {
      "name": "python3",
      "display_name": "Python 3"
    },
    "language_info": {
      "name": "python"
    }
  },
  "cells": [
    {
      "cell_type": "markdown",
      "source": [
        "It is regression machine learning model approach to predict Big Mart sales, optimizing inventory management, and enhancing decision-making for increased profitability and customer satisfaction."
      ],
      "metadata": {
        "id": "97hWNla8hH7J"
      }
    },
    {
      "cell_type": "code",
      "source": [
        "import warnings\n",
        "warnings.filterwarnings('ignore')"
      ],
      "metadata": {
        "id": "havJCNvZ0fsQ"
      },
      "execution_count": 1,
      "outputs": []
    },
    {
      "cell_type": "markdown",
      "source": [
        "# Installing Spark"
      ],
      "metadata": {
        "id": "KHMSBReYcfG_"
      }
    },
    {
      "cell_type": "code",
      "source": [
        "!pip3 -q install pyspark\n",
        "from pyspark.sql import SparkSession\n",
        "spark = SparkSession.builder.appName('mywork').getOrCreate()"
      ],
      "metadata": {
        "colab": {
          "base_uri": "https://localhost:8080/"
        },
        "id": "tS-U4iJbzRik",
        "outputId": "8e91d535-236d-426d-9ce4-a0b1e3f72c43"
      },
      "execution_count": 2,
      "outputs": [
        {
          "output_type": "stream",
          "name": "stdout",
          "text": [
            "\u001b[2K     \u001b[90m━━━━━━━━━━━━━━━━━━━━━━━━━━━━━━━━━━━━━━━━\u001b[0m \u001b[32m316.9/316.9 MB\u001b[0m \u001b[31m4.0 MB/s\u001b[0m eta \u001b[36m0:00:00\u001b[0m\n",
            "\u001b[?25h  Preparing metadata (setup.py) ... \u001b[?25l\u001b[?25hdone\n",
            "  Building wheel for pyspark (setup.py) ... \u001b[?25l\u001b[?25hdone\n"
          ]
        }
      ]
    },
    {
      "cell_type": "markdown",
      "source": [
        "#Loading Data"
      ],
      "metadata": {
        "id": "Ng9gqKYHcpq_"
      }
    },
    {
      "cell_type": "code",
      "source": [
        "!wget -O Data_Set.csv -q https://raw.githubusercontent.com/nilanjansonai/BDSN_END-TERM/main/Big_Mart.csv"
      ],
      "metadata": {
        "id": "5VqSgWpnzS7q"
      },
      "execution_count": 3,
      "outputs": []
    },
    {
      "cell_type": "code",
      "source": [
        "data=spark.read.csv('Data_Set.csv',inferSchema=True,header=True)"
      ],
      "metadata": {
        "id": "_jFjHBI1zXEL"
      },
      "execution_count": 4,
      "outputs": []
    },
    {
      "cell_type": "markdown",
      "source": [
        "# Data Understanding"
      ],
      "metadata": {
        "id": "XWejC9MeczYs"
      }
    },
    {
      "cell_type": "code",
      "source": [
        "data.printSchema()"
      ],
      "metadata": {
        "colab": {
          "base_uri": "https://localhost:8080/"
        },
        "id": "jO7j7-lDzhkW",
        "outputId": "e34d1e36-65fb-4f77-8744-a8548bff1294"
      },
      "execution_count": 5,
      "outputs": [
        {
          "output_type": "stream",
          "name": "stdout",
          "text": [
            "root\n",
            " |-- Item_Identifier: string (nullable = true)\n",
            " |-- Item_Weight: double (nullable = true)\n",
            " |-- Item_Fat_Content: string (nullable = true)\n",
            " |-- Item_Visibility: double (nullable = true)\n",
            " |-- Item_Type: string (nullable = true)\n",
            " |-- Item_MRP: double (nullable = true)\n",
            " |-- Outlet_Identifier: string (nullable = true)\n",
            " |-- Outlet_Establishment_Year: integer (nullable = true)\n",
            " |-- Outlet_Size: string (nullable = true)\n",
            " |-- Outlet_Location_Type: string (nullable = true)\n",
            " |-- Outlet_Type: string (nullable = true)\n",
            " |-- Item_Outlet_Sales: double (nullable = true)\n",
            "\n"
          ]
        }
      ]
    },
    {
      "cell_type": "code",
      "source": [
        "data.count(), len(data.columns)"
      ],
      "metadata": {
        "colab": {
          "base_uri": "https://localhost:8080/"
        },
        "id": "cBFzK__dzkSI",
        "outputId": "97848e52-8c49-4ff3-87da-086ff6fd0c4f"
      },
      "execution_count": 6,
      "outputs": [
        {
          "output_type": "execute_result",
          "data": {
            "text/plain": [
              "(8523, 12)"
            ]
          },
          "metadata": {},
          "execution_count": 6
        }
      ]
    },
    {
      "cell_type": "code",
      "source": [
        "data.dtypes"
      ],
      "metadata": {
        "colab": {
          "base_uri": "https://localhost:8080/"
        },
        "id": "-_2EUKdRzn1c",
        "outputId": "7b51038c-10d1-4c64-b5fa-0c892774889f"
      },
      "execution_count": 7,
      "outputs": [
        {
          "output_type": "execute_result",
          "data": {
            "text/plain": [
              "[('Item_Identifier', 'string'),\n",
              " ('Item_Weight', 'double'),\n",
              " ('Item_Fat_Content', 'string'),\n",
              " ('Item_Visibility', 'double'),\n",
              " ('Item_Type', 'string'),\n",
              " ('Item_MRP', 'double'),\n",
              " ('Outlet_Identifier', 'string'),\n",
              " ('Outlet_Establishment_Year', 'int'),\n",
              " ('Outlet_Size', 'string'),\n",
              " ('Outlet_Location_Type', 'string'),\n",
              " ('Outlet_Type', 'string'),\n",
              " ('Item_Outlet_Sales', 'double')]"
            ]
          },
          "metadata": {},
          "execution_count": 7
        }
      ]
    },
    {
      "cell_type": "code",
      "source": [
        "data.describe().show()"
      ],
      "metadata": {
        "colab": {
          "base_uri": "https://localhost:8080/"
        },
        "id": "llAiOKdXzzcn",
        "outputId": "0bb0b46a-d37a-46b7-e5c4-78be292c07e0"
      },
      "execution_count": 8,
      "outputs": [
        {
          "output_type": "stream",
          "name": "stdout",
          "text": [
            "+-------+---------------+------------------+----------------+-------------------+-------------+-----------------+-----------------+-------------------------+-----------+--------------------+-----------------+------------------+\n",
            "|summary|Item_Identifier|       Item_Weight|Item_Fat_Content|    Item_Visibility|    Item_Type|         Item_MRP|Outlet_Identifier|Outlet_Establishment_Year|Outlet_Size|Outlet_Location_Type|      Outlet_Type| Item_Outlet_Sales|\n",
            "+-------+---------------+------------------+----------------+-------------------+-------------+-----------------+-----------------+-------------------------+-----------+--------------------+-----------------+------------------+\n",
            "|  count|           8523|              7060|            8523|               8523|         8523|             8523|             8523|                     8523|       6113|                8523|             8523|              8523|\n",
            "|   mean|           NULL|12.857645184136183|            NULL|0.06613202877895127|         NULL|140.9927819781768|             NULL|       1997.8318667135984|       NULL|                NULL|             NULL|2181.2889135750365|\n",
            "| stddev|           NULL| 4.643456499186414|            NULL|0.05159782232113514|         NULL|62.27506651219047|             NULL|        8.371760408092667|       NULL|                NULL|             NULL|1706.4996157338403|\n",
            "|    min|          DRA12|             4.555|              LF|                0.0| Baking Goods|            31.29|           OUT010|                     1985|       High|              Tier 1|    Grocery Store|             33.29|\n",
            "|    max|          NCZ54|             21.35|             reg|        0.328390948|Starchy Foods|         266.8884|           OUT049|                     2009|      Small|              Tier 3|Supermarket Type3|        13086.9648|\n",
            "+-------+---------------+------------------+----------------+-------------------+-------------+-----------------+-----------------+-------------------------+-----------+--------------------+-----------------+------------------+\n",
            "\n"
          ]
        }
      ]
    },
    {
      "cell_type": "code",
      "source": [
        "data.show()"
      ],
      "metadata": {
        "colab": {
          "base_uri": "https://localhost:8080/"
        },
        "id": "z5QSh_Pi0CZQ",
        "outputId": "982a25c6-cea5-45a3-c9e5-cd9b017dae09"
      },
      "execution_count": 113,
      "outputs": [
        {
          "output_type": "stream",
          "name": "stdout",
          "text": [
            "+---------------+-----------+----------------+---------------+--------------------+--------+-----------------+-------------------------+-----------+--------------------+-----------------+-----------------+\n",
            "|Item_Identifier|Item_Weight|Item_Fat_Content|Item_Visibility|           Item_Type|Item_MRP|Outlet_Identifier|Outlet_Establishment_Year|Outlet_Size|Outlet_Location_Type|      Outlet_Type|Item_Outlet_Sales|\n",
            "+---------------+-----------+----------------+---------------+--------------------+--------+-----------------+-------------------------+-----------+--------------------+-----------------+-----------------+\n",
            "|          FDA15|        9.3|         Low Fat|    0.016047301|               Dairy|249.8092|           OUT049|                     1999|     Medium|              Tier 1|Supermarket Type1|         3735.138|\n",
            "|          DRC01|       5.92|         Regular|    0.019278216|         Soft Drinks| 48.2692|           OUT018|                     2009|     Medium|              Tier 3|Supermarket Type2|         443.4228|\n",
            "|          FDN15|       17.5|         Low Fat|    0.016760075|                Meat| 141.618|           OUT049|                     1999|     Medium|              Tier 1|Supermarket Type1|          2097.27|\n",
            "|          FDX07|       19.2|         Regular|            0.0|Fruits and Vegeta...| 182.095|           OUT010|                     1998|       NULL|              Tier 3|    Grocery Store|           732.38|\n",
            "|          NCD19|       8.93|         Low Fat|            0.0|           Household| 53.8614|           OUT013|                     1987|       High|              Tier 3|Supermarket Type1|         994.7052|\n",
            "|          FDP36|     10.395|         Regular|            0.0|        Baking Goods| 51.4008|           OUT018|                     2009|     Medium|              Tier 3|Supermarket Type2|         556.6088|\n",
            "|          FDO10|      13.65|         Regular|    0.012741089|         Snack Foods| 57.6588|           OUT013|                     1987|       High|              Tier 3|Supermarket Type1|         343.5528|\n",
            "|          FDP10|       NULL|         Low Fat|    0.127469857|         Snack Foods|107.7622|           OUT027|                     1985|     Medium|              Tier 3|Supermarket Type3|        4022.7636|\n",
            "|          FDH17|       16.2|         Regular|    0.016687114|        Frozen Foods| 96.9726|           OUT045|                     2002|       NULL|              Tier 2|Supermarket Type1|        1076.5986|\n",
            "|          FDU28|       19.2|         Regular|     0.09444959|        Frozen Foods|187.8214|           OUT017|                     2007|       NULL|              Tier 2|Supermarket Type1|         4710.535|\n",
            "|          FDY07|       11.8|         Low Fat|            0.0|Fruits and Vegeta...| 45.5402|           OUT049|                     1999|     Medium|              Tier 1|Supermarket Type1|        1516.0266|\n",
            "|          FDA03|       18.5|         Regular|    0.045463773|               Dairy|144.1102|           OUT046|                     1997|      Small|              Tier 1|Supermarket Type1|         2187.153|\n",
            "|          FDX32|       15.1|         Regular|      0.1000135|Fruits and Vegeta...|145.4786|           OUT049|                     1999|     Medium|              Tier 1|Supermarket Type1|        1589.2646|\n",
            "|          FDS46|       17.6|         Regular|    0.047257328|         Snack Foods|119.6782|           OUT046|                     1997|      Small|              Tier 1|Supermarket Type1|        2145.2076|\n",
            "|          FDF32|      16.35|         Low Fat|      0.0680243|Fruits and Vegeta...|196.4426|           OUT013|                     1987|       High|              Tier 3|Supermarket Type1|         1977.426|\n",
            "|          FDP49|        9.0|         Regular|    0.069088961|           Breakfast| 56.3614|           OUT046|                     1997|      Small|              Tier 1|Supermarket Type1|        1547.3192|\n",
            "|          NCB42|       11.8|         Low Fat|    0.008596051|  Health and Hygiene|115.3492|           OUT018|                     2009|     Medium|              Tier 3|Supermarket Type2|        1621.8888|\n",
            "|          FDP49|        9.0|         Regular|    0.069196376|           Breakfast| 54.3614|           OUT049|                     1999|     Medium|              Tier 1|Supermarket Type1|         718.3982|\n",
            "|          DRI11|       NULL|         Low Fat|    0.034237682|         Hard Drinks|113.2834|           OUT027|                     1985|     Medium|              Tier 3|Supermarket Type3|         2303.668|\n",
            "|          FDU02|      13.35|         Low Fat|     0.10249212|               Dairy|230.5352|           OUT035|                     2004|      Small|              Tier 2|Supermarket Type1|        2748.4224|\n",
            "+---------------+-----------+----------------+---------------+--------------------+--------+-----------------+-------------------------+-----------+--------------------+-----------------+-----------------+\n",
            "only showing top 20 rows\n",
            "\n"
          ]
        }
      ]
    },
    {
      "cell_type": "code",
      "source": [
        "for col in data.columns:\n",
        "  print('Number of unique values : ',data.select(col).distinct().count())\n",
        "  print(data.select(col).distinct().show())"
      ],
      "metadata": {
        "colab": {
          "base_uri": "https://localhost:8080/"
        },
        "id": "2XzZ0h2S1jkH",
        "outputId": "1c239af5-9a69-43ed-ffd4-a5144bed3fdd"
      },
      "execution_count": 10,
      "outputs": [
        {
          "output_type": "stream",
          "name": "stdout",
          "text": [
            "Number of unique values :  1559\n",
            "+---------------+\n",
            "|Item_Identifier|\n",
            "+---------------+\n",
            "|          FDB11|\n",
            "|          FDO11|\n",
            "|          DRA24|\n",
            "|          FDU24|\n",
            "|          FDW60|\n",
            "|          FDW52|\n",
            "|          FDN15|\n",
            "|          FDQ20|\n",
            "|          FDU10|\n",
            "|          FDY43|\n",
            "|          NCL54|\n",
            "|          FDP39|\n",
            "|          NCN30|\n",
            "|          NCS30|\n",
            "|          NCW05|\n",
            "|          NCF42|\n",
            "|          FDX27|\n",
            "|          FDD20|\n",
            "|          FDW32|\n",
            "|          NCW18|\n",
            "+---------------+\n",
            "only showing top 20 rows\n",
            "\n",
            "None\n",
            "Number of unique values :  416\n",
            "+-----------+\n",
            "|Item_Weight|\n",
            "+-----------+\n",
            "|       9.13|\n",
            "|       15.5|\n",
            "|       8.51|\n",
            "|      10.65|\n",
            "|      16.75|\n",
            "|       5.86|\n",
            "|       6.96|\n",
            "|       5.78|\n",
            "|      6.765|\n",
            "|      6.985|\n",
            "|      7.365|\n",
            "|       15.7|\n",
            "|      8.355|\n",
            "|       5.48|\n",
            "|      8.235|\n",
            "|       8.43|\n",
            "|       8.92|\n",
            "|       4.88|\n",
            "|       8.31|\n",
            "|      20.35|\n",
            "+-----------+\n",
            "only showing top 20 rows\n",
            "\n",
            "None\n",
            "Number of unique values :  5\n",
            "+----------------+\n",
            "|Item_Fat_Content|\n",
            "+----------------+\n",
            "|         low fat|\n",
            "|         Low Fat|\n",
            "|              LF|\n",
            "|         Regular|\n",
            "|             reg|\n",
            "+----------------+\n",
            "\n",
            "None\n",
            "Number of unique values :  7880\n",
            "+---------------+\n",
            "|Item_Visibility|\n",
            "+---------------+\n",
            "|    0.028696932|\n",
            "|    0.016993225|\n",
            "|    0.026681262|\n",
            "|    0.079794329|\n",
            "|    0.023492524|\n",
            "|    0.062700289|\n",
            "|    0.030563449|\n",
            "|    0.123961415|\n",
            "|    0.070444232|\n",
            "|    0.013834247|\n",
            "|    0.027217468|\n",
            "|    0.076348933|\n",
            "|    0.027222517|\n",
            "|    0.045525961|\n",
            "|    0.099120588|\n",
            "|    0.236616754|\n",
            "|    0.122494876|\n",
            "|    0.023071504|\n",
            "|    0.021849398|\n",
            "|     0.01548171|\n",
            "+---------------+\n",
            "only showing top 20 rows\n",
            "\n",
            "None\n",
            "Number of unique values :  16\n",
            "+--------------------+\n",
            "|           Item_Type|\n",
            "+--------------------+\n",
            "|       Starchy Foods|\n",
            "|        Baking Goods|\n",
            "|              Breads|\n",
            "|Fruits and Vegeta...|\n",
            "|                Meat|\n",
            "|         Hard Drinks|\n",
            "|         Soft Drinks|\n",
            "|           Household|\n",
            "|           Breakfast|\n",
            "|               Dairy|\n",
            "|         Snack Foods|\n",
            "|              Others|\n",
            "|             Seafood|\n",
            "|              Canned|\n",
            "|        Frozen Foods|\n",
            "|  Health and Hygiene|\n",
            "+--------------------+\n",
            "\n",
            "None\n",
            "Number of unique values :  5938\n",
            "+--------+\n",
            "|Item_MRP|\n",
            "+--------+\n",
            "| 37.2506|\n",
            "| 62.6168|\n",
            "|197.9084|\n",
            "| 107.957|\n",
            "|173.1764|\n",
            "|254.1014|\n",
            "|226.1062|\n",
            "|  87.254|\n",
            "| 99.2042|\n",
            "| 48.6376|\n",
            "|252.3356|\n",
            "| 98.6068|\n",
            "|157.2946|\n",
            "| 94.9094|\n",
            "|168.4448|\n",
            "|175.1028|\n",
            "|165.3158|\n",
            "| 64.7826|\n",
            "| 49.0034|\n",
            "| 92.5146|\n",
            "+--------+\n",
            "only showing top 20 rows\n",
            "\n",
            "None\n",
            "Number of unique values :  10\n",
            "+-----------------+\n",
            "|Outlet_Identifier|\n",
            "+-----------------+\n",
            "|           OUT027|\n",
            "|           OUT046|\n",
            "|           OUT013|\n",
            "|           OUT019|\n",
            "|           OUT018|\n",
            "|           OUT010|\n",
            "|           OUT045|\n",
            "|           OUT035|\n",
            "|           OUT017|\n",
            "|           OUT049|\n",
            "+-----------------+\n",
            "\n",
            "None\n",
            "Number of unique values :  9\n",
            "+-------------------------+\n",
            "|Outlet_Establishment_Year|\n",
            "+-------------------------+\n",
            "|                     2007|\n",
            "|                     1997|\n",
            "|                     2004|\n",
            "|                     1998|\n",
            "|                     1985|\n",
            "|                     1987|\n",
            "|                     2009|\n",
            "|                     1999|\n",
            "|                     2002|\n",
            "+-------------------------+\n",
            "\n",
            "None\n",
            "Number of unique values :  4\n",
            "+-----------+\n",
            "|Outlet_Size|\n",
            "+-----------+\n",
            "|       High|\n",
            "|     Medium|\n",
            "|      Small|\n",
            "|       NULL|\n",
            "+-----------+\n",
            "\n",
            "None\n",
            "Number of unique values :  3\n",
            "+--------------------+\n",
            "|Outlet_Location_Type|\n",
            "+--------------------+\n",
            "|              Tier 2|\n",
            "|              Tier 3|\n",
            "|              Tier 1|\n",
            "+--------------------+\n",
            "\n",
            "None\n",
            "Number of unique values :  4\n",
            "+-----------------+\n",
            "|      Outlet_Type|\n",
            "+-----------------+\n",
            "|Supermarket Type3|\n",
            "|    Grocery Store|\n",
            "|Supermarket Type2|\n",
            "|Supermarket Type1|\n",
            "+-----------------+\n",
            "\n",
            "None\n",
            "Number of unique values :  3493\n",
            "+-----------------+\n",
            "|Item_Outlet_Sales|\n",
            "+-----------------+\n",
            "|        2741.7644|\n",
            "|         467.3916|\n",
            "|         3142.576|\n",
            "|          1531.34|\n",
            "|         607.2096|\n",
            "|         782.9808|\n",
            "|          705.748|\n",
            "|        3872.9586|\n",
            "|          41.9454|\n",
            "|        1202.4348|\n",
            "|         6308.455|\n",
            "|         424.7804|\n",
            "|          99.2042|\n",
            "|         854.8872|\n",
            "|        2394.8826|\n",
            "|           732.38|\n",
            "|         948.0992|\n",
            "|         1135.189|\n",
            "|        4889.6352|\n",
            "|        1382.2008|\n",
            "+-----------------+\n",
            "only showing top 20 rows\n",
            "\n",
            "None\n"
          ]
        }
      ]
    },
    {
      "cell_type": "code",
      "source": [
        "for col in data.columns:\n",
        "  print(col, \"has\", data.filter(data[col].isNull()).count(), \"Null values.\")"
      ],
      "metadata": {
        "colab": {
          "base_uri": "https://localhost:8080/"
        },
        "id": "HZlxYHRaz2Py",
        "outputId": "c8a0554c-0764-433a-9da1-2738377cfb37"
      },
      "execution_count": 11,
      "outputs": [
        {
          "output_type": "stream",
          "name": "stdout",
          "text": [
            "Item_Identifier has 0 Null values.\n",
            "Item_Weight has 1463 Null values.\n",
            "Item_Fat_Content has 0 Null values.\n",
            "Item_Visibility has 0 Null values.\n",
            "Item_Type has 0 Null values.\n",
            "Item_MRP has 0 Null values.\n",
            "Outlet_Identifier has 0 Null values.\n",
            "Outlet_Establishment_Year has 0 Null values.\n",
            "Outlet_Size has 2410 Null values.\n",
            "Outlet_Location_Type has 0 Null values.\n",
            "Outlet_Type has 0 Null values.\n",
            "Item_Outlet_Sales has 0 Null values.\n"
          ]
        }
      ]
    },
    {
      "cell_type": "markdown",
      "source": [
        "2410 null values in Outlet_Size and 1463 null values in Item_Weight."
      ],
      "metadata": {
        "id": "wj10iHgje0MK"
      }
    },
    {
      "cell_type": "markdown",
      "source": [
        "# Data Preprocessing"
      ],
      "metadata": {
        "id": "ZoP9ySMydDNU"
      }
    },
    {
      "cell_type": "code",
      "source": [
        "Item_Weight_mean = data.agg({'Item_Weight': 'mean'}).collect()\n",
        "Item_Weight_mean"
      ],
      "metadata": {
        "colab": {
          "base_uri": "https://localhost:8080/"
        },
        "id": "BFG1XN70z_J7",
        "outputId": "3ed73b11-c645-429f-e0d8-b2eabdda76ca"
      },
      "execution_count": 12,
      "outputs": [
        {
          "output_type": "execute_result",
          "data": {
            "text/plain": [
              "[Row(avg(Item_Weight)=12.857645184136183)]"
            ]
          },
          "metadata": {},
          "execution_count": 12
        }
      ]
    },
    {
      "cell_type": "code",
      "source": [
        "from pyspark.sql import functions as F"
      ],
      "metadata": {
        "id": "11KNwizZ3ZrO"
      },
      "execution_count": 13,
      "outputs": []
    },
    {
      "cell_type": "code",
      "source": [
        "item_weight_mean = data.agg(F.mean('Item_Weight').alias('Item_Weight_mean')).collect()[0]['Item_Weight_mean']\n",
        "\n",
        "df = data.withColumn('Item_Weight', F.when(F.col('Item_Weight').isNull(), item_weight_mean).otherwise(F.col('Item_Weight')))"
      ],
      "metadata": {
        "id": "jQx3GTuM3J_M"
      },
      "execution_count": 14,
      "outputs": []
    },
    {
      "cell_type": "code",
      "source": [
        "from pyspark.sql.functions import when"
      ],
      "metadata": {
        "id": "pcuPZe4mFTlV"
      },
      "execution_count": 15,
      "outputs": []
    },
    {
      "cell_type": "code",
      "source": [
        "df = df.withColumn(\"Item_Fat_Content\", when(df[\"Item_Fat_Content\"] == 'Regular', 'reg').otherwise(df[\"Item_Fat_Content\"]))"
      ],
      "metadata": {
        "id": "KHvnLFJXFLFh"
      },
      "execution_count": 16,
      "outputs": []
    },
    {
      "cell_type": "code",
      "source": [
        "df = df.withColumn(\"Item_Fat_Content\", when(df[\"Item_Fat_Content\"].isin(['low fat','Low Fat']), 'LF').otherwise(df[\"Item_Fat_Content\"]))"
      ],
      "metadata": {
        "id": "EomcNZ1ZG9Aw"
      },
      "execution_count": 17,
      "outputs": []
    },
    {
      "cell_type": "code",
      "source": [
        "df = df.withColumn(\"Item_Type\", df[\"Item_Identifier\"].substr(1, 2))"
      ],
      "metadata": {
        "id": "MutVtzzpIxdc"
      },
      "execution_count": 18,
      "outputs": []
    },
    {
      "cell_type": "code",
      "source": [
        "columns_to_drop = ['Outlet_Size', 'Item_Identifier']\n",
        "df = df.drop(*columns_to_drop)"
      ],
      "metadata": {
        "id": "p7mOd6qf5OYh"
      },
      "execution_count": 19,
      "outputs": []
    },
    {
      "cell_type": "markdown",
      "source": [
        "Item_identifier ID has first two charachters defining the item type, these are FD, DR, NC means 'Food', 'Drinks', 'Non-Consumables'. Converting Item_Type into these 3 categories Food, Drinks,Non-Consumable. And repeated values in 'Item_Fat_Content' are replaced. Outlet_size and Item_Identifier are dropped as Outlet_size consists 28% null values and Item_Identifier is considered insignificant. And null values of Item_Weight has been replaced by its mean."
      ],
      "metadata": {
        "id": "TVzrOR0dfHSs"
      }
    },
    {
      "cell_type": "code",
      "source": [
        "for col in df.columns:\n",
        "  print('Number of unique values : ',df.select(col).distinct().count())\n",
        "  print(df.select(col).distinct().show())"
      ],
      "metadata": {
        "colab": {
          "base_uri": "https://localhost:8080/"
        },
        "id": "HhI1QuuWHzQm",
        "outputId": "ff4ee83a-5302-4344-870e-e00f275b805c"
      },
      "execution_count": 20,
      "outputs": [
        {
          "output_type": "stream",
          "name": "stdout",
          "text": [
            "Number of unique values :  416\n",
            "+------------------+\n",
            "|       Item_Weight|\n",
            "+------------------+\n",
            "|12.857645184136183|\n",
            "|              9.13|\n",
            "|              15.5|\n",
            "|              8.51|\n",
            "|             10.65|\n",
            "|             16.75|\n",
            "|              5.86|\n",
            "|              6.96|\n",
            "|              5.78|\n",
            "|             6.765|\n",
            "|             6.985|\n",
            "|             7.365|\n",
            "|              15.7|\n",
            "|             8.355|\n",
            "|              5.48|\n",
            "|             8.235|\n",
            "|              8.43|\n",
            "|              8.92|\n",
            "|              4.88|\n",
            "|              8.31|\n",
            "+------------------+\n",
            "only showing top 20 rows\n",
            "\n",
            "None\n",
            "Number of unique values :  2\n",
            "+----------------+\n",
            "|Item_Fat_Content|\n",
            "+----------------+\n",
            "|              LF|\n",
            "|             reg|\n",
            "+----------------+\n",
            "\n",
            "None\n",
            "Number of unique values :  7880\n",
            "+---------------+\n",
            "|Item_Visibility|\n",
            "+---------------+\n",
            "|    0.028696932|\n",
            "|    0.016993225|\n",
            "|    0.026681262|\n",
            "|    0.079794329|\n",
            "|    0.023492524|\n",
            "|    0.062700289|\n",
            "|    0.030563449|\n",
            "|    0.123961415|\n",
            "|    0.070444232|\n",
            "|    0.013834247|\n",
            "|    0.027217468|\n",
            "|    0.076348933|\n",
            "|    0.027222517|\n",
            "|    0.045525961|\n",
            "|    0.099120588|\n",
            "|    0.236616754|\n",
            "|    0.122494876|\n",
            "|    0.023071504|\n",
            "|    0.021849398|\n",
            "|     0.01548171|\n",
            "+---------------+\n",
            "only showing top 20 rows\n",
            "\n",
            "None\n",
            "Number of unique values :  3\n",
            "+---------+\n",
            "|Item_Type|\n",
            "+---------+\n",
            "|       DR|\n",
            "|       NC|\n",
            "|       FD|\n",
            "+---------+\n",
            "\n",
            "None\n",
            "Number of unique values :  5938\n",
            "+--------+\n",
            "|Item_MRP|\n",
            "+--------+\n",
            "| 37.2506|\n",
            "| 62.6168|\n",
            "|197.9084|\n",
            "| 107.957|\n",
            "|173.1764|\n",
            "|254.1014|\n",
            "|226.1062|\n",
            "|  87.254|\n",
            "| 99.2042|\n",
            "| 48.6376|\n",
            "|252.3356|\n",
            "| 98.6068|\n",
            "|157.2946|\n",
            "| 94.9094|\n",
            "|168.4448|\n",
            "|175.1028|\n",
            "|165.3158|\n",
            "| 64.7826|\n",
            "| 49.0034|\n",
            "| 92.5146|\n",
            "+--------+\n",
            "only showing top 20 rows\n",
            "\n",
            "None\n",
            "Number of unique values :  10\n",
            "+-----------------+\n",
            "|Outlet_Identifier|\n",
            "+-----------------+\n",
            "|           OUT027|\n",
            "|           OUT046|\n",
            "|           OUT013|\n",
            "|           OUT019|\n",
            "|           OUT018|\n",
            "|           OUT010|\n",
            "|           OUT045|\n",
            "|           OUT035|\n",
            "|           OUT017|\n",
            "|           OUT049|\n",
            "+-----------------+\n",
            "\n",
            "None\n",
            "Number of unique values :  9\n",
            "+-------------------------+\n",
            "|Outlet_Establishment_Year|\n",
            "+-------------------------+\n",
            "|                     2007|\n",
            "|                     1997|\n",
            "|                     2004|\n",
            "|                     1998|\n",
            "|                     1985|\n",
            "|                     1987|\n",
            "|                     2009|\n",
            "|                     1999|\n",
            "|                     2002|\n",
            "+-------------------------+\n",
            "\n",
            "None\n",
            "Number of unique values :  3\n",
            "+--------------------+\n",
            "|Outlet_Location_Type|\n",
            "+--------------------+\n",
            "|              Tier 2|\n",
            "|              Tier 3|\n",
            "|              Tier 1|\n",
            "+--------------------+\n",
            "\n",
            "None\n",
            "Number of unique values :  4\n",
            "+-----------------+\n",
            "|      Outlet_Type|\n",
            "+-----------------+\n",
            "|Supermarket Type3|\n",
            "|    Grocery Store|\n",
            "|Supermarket Type2|\n",
            "|Supermarket Type1|\n",
            "+-----------------+\n",
            "\n",
            "None\n",
            "Number of unique values :  3493\n",
            "+-----------------+\n",
            "|Item_Outlet_Sales|\n",
            "+-----------------+\n",
            "|        2741.7644|\n",
            "|         467.3916|\n",
            "|         3142.576|\n",
            "|          1531.34|\n",
            "|         607.2096|\n",
            "|         782.9808|\n",
            "|          705.748|\n",
            "|        3872.9586|\n",
            "|          41.9454|\n",
            "|        1202.4348|\n",
            "|         6308.455|\n",
            "|         424.7804|\n",
            "|          99.2042|\n",
            "|         854.8872|\n",
            "|        2394.8826|\n",
            "|           732.38|\n",
            "|         948.0992|\n",
            "|         1135.189|\n",
            "|        4889.6352|\n",
            "|        1382.2008|\n",
            "+-----------------+\n",
            "only showing top 20 rows\n",
            "\n",
            "None\n"
          ]
        }
      ]
    },
    {
      "cell_type": "code",
      "source": [
        "for col in df.columns:\n",
        "  print(col, \"has\", df.filter(df[col].isNull()).count(), \"Null values.\")"
      ],
      "metadata": {
        "colab": {
          "base_uri": "https://localhost:8080/"
        },
        "id": "K40TURhy4bYg",
        "outputId": "1ccc6f6d-f536-4f6e-d217-931f7c003c73"
      },
      "execution_count": 21,
      "outputs": [
        {
          "output_type": "stream",
          "name": "stdout",
          "text": [
            "Item_Weight has 0 Null values.\n",
            "Item_Fat_Content has 0 Null values.\n",
            "Item_Visibility has 0 Null values.\n",
            "Item_Type has 0 Null values.\n",
            "Item_MRP has 0 Null values.\n",
            "Outlet_Identifier has 0 Null values.\n",
            "Outlet_Establishment_Year has 0 Null values.\n",
            "Outlet_Location_Type has 0 Null values.\n",
            "Outlet_Type has 0 Null values.\n",
            "Item_Outlet_Sales has 0 Null values.\n"
          ]
        }
      ]
    },
    {
      "cell_type": "code",
      "source": [
        "df.show(5)"
      ],
      "metadata": {
        "colab": {
          "base_uri": "https://localhost:8080/"
        },
        "id": "pZh6xBS26ibm",
        "outputId": "d938e96d-9094-4b15-fc8d-5840c68ad666"
      },
      "execution_count": 56,
      "outputs": [
        {
          "output_type": "stream",
          "name": "stdout",
          "text": [
            "+-----------+----------------+---------------+---------+--------+-----------------+-------------------------+--------------------+-----------------+-----------------+\n",
            "|Item_Weight|Item_Fat_Content|Item_Visibility|Item_Type|Item_MRP|Outlet_Identifier|Outlet_Establishment_Year|Outlet_Location_Type|      Outlet_Type|Item_Outlet_Sales|\n",
            "+-----------+----------------+---------------+---------+--------+-----------------+-------------------------+--------------------+-----------------+-----------------+\n",
            "|        9.3|              LF|    0.016047301|       FD|249.8092|           OUT049|                     1999|              Tier 1|Supermarket Type1|         3735.138|\n",
            "|       5.92|             reg|    0.019278216|       DR| 48.2692|           OUT018|                     2009|              Tier 3|Supermarket Type2|         443.4228|\n",
            "|       17.5|              LF|    0.016760075|       FD| 141.618|           OUT049|                     1999|              Tier 1|Supermarket Type1|          2097.27|\n",
            "|       19.2|             reg|            0.0|       FD| 182.095|           OUT010|                     1998|              Tier 3|    Grocery Store|           732.38|\n",
            "|       8.93|              LF|            0.0|       NC| 53.8614|           OUT013|                     1987|              Tier 3|Supermarket Type1|         994.7052|\n",
            "+-----------+----------------+---------------+---------+--------+-----------------+-------------------------+--------------------+-----------------+-----------------+\n",
            "only showing top 5 rows\n",
            "\n"
          ]
        }
      ]
    },
    {
      "cell_type": "markdown",
      "source": [
        "# String Indexer and One Hot Encoder"
      ],
      "metadata": {
        "id": "gmQ7BI12ddH1"
      }
    },
    {
      "cell_type": "code",
      "source": [
        "from pyspark.ml.feature import StringIndexer\n",
        "from pyspark.ml.feature import VectorAssembler\n",
        "from pyspark.ml.feature import OneHotEncoder"
      ],
      "metadata": {
        "id": "7z9vaBrj5ebG"
      },
      "execution_count": 22,
      "outputs": []
    },
    {
      "cell_type": "code",
      "source": [
        "#Platform_indexer = StringIndexer(inputCol=\"Item_Fat_Content\", outputCol=\"Item_Fat_Content_Num\")\n",
        "#dfWork = Platform_indexer.fit(df).transform(df)"
      ],
      "metadata": {
        "id": "5gEUUeBP6F3W"
      },
      "execution_count": 96,
      "outputs": []
    },
    {
      "cell_type": "code",
      "source": [
        "#Platform_encoder = OneHotEncoder(inputCol=\"Item_Fat_Content_Num\", outputCol=\"Item_Fat_Vector\")\n",
        "#Platform_encoder.setDropLast(False)\n",
        "#dfWork = Platform_encoder.fit(dfWork).transform(dfWork)"
      ],
      "metadata": {
        "id": "G72AdVlrJ4ch"
      },
      "execution_count": 97,
      "outputs": []
    },
    {
      "cell_type": "code",
      "source": [
        "#Platform_indexer = StringIndexer(inputCol=\"Item_Type\", outputCol=\"Item_Type_Num\")\n",
        "#dfWork = Platform_indexer.fit(dfWork).transform(dfWork)"
      ],
      "metadata": {
        "id": "k_x5Uno-Jwxk"
      },
      "execution_count": 98,
      "outputs": []
    },
    {
      "cell_type": "code",
      "source": [
        "#Platform_encoder = OneHotEncoder(inputCol=\"Item_Type_Num\", outputCol=\"Item_Type_Vector\")\n",
        "#Platform_encoder.setDropLast(False)\n",
        "#dfWork = Platform_encoder.fit(dfWork).transform(dfWork)"
      ],
      "metadata": {
        "id": "lsXwmoXpLEVo"
      },
      "execution_count": 99,
      "outputs": []
    },
    {
      "cell_type": "code",
      "source": [
        "#Platform_indexer = StringIndexer(inputCol=\"Outlet_Identifier\", outputCol=\"Outlet_Identifier_Num\")\n",
        "#dfWork = Platform_indexer.fit(dfWork).transform(dfWork)"
      ],
      "metadata": {
        "id": "4viMz7LbLeGX"
      },
      "execution_count": 100,
      "outputs": []
    },
    {
      "cell_type": "code",
      "source": [
        "#Platform_encoder = OneHotEncoder(inputCol=\"Outlet_Identifier_Num\", outputCol=\"Outlet_Identifier_Vector\")\n",
        "#Platform_encoder.setDropLast(False)\n",
        "#dfWork = Platform_encoder.fit(dfWork).transform(dfWork)"
      ],
      "metadata": {
        "id": "o4S6SMZ2LfTp"
      },
      "execution_count": 101,
      "outputs": []
    },
    {
      "cell_type": "code",
      "source": [
        "#Platform_indexer = StringIndexer(inputCol=\"Outlet_Location_Type\", outputCol=\"Outlet_Location_Num\")\n",
        "#dfWork = Platform_indexer.fit(dfWork).transform(dfWork)"
      ],
      "metadata": {
        "id": "6vrOYR9BLpwy"
      },
      "execution_count": 102,
      "outputs": []
    },
    {
      "cell_type": "code",
      "source": [
        "#Platform_encoder = OneHotEncoder(inputCol=\"Outlet_Location_Num\", outputCol=\"Outlet_Location_Vector\")\n",
        "#Platform_encoder.setDropLast(False)\n",
        "#dfWork = Platform_encoder.fit(dfWork).transform(dfWork)"
      ],
      "metadata": {
        "id": "s_1VHvA9LsXx"
      },
      "execution_count": 103,
      "outputs": []
    },
    {
      "cell_type": "code",
      "source": [
        "#Platform_indexer = StringIndexer(inputCol=\"Outlet_Type\", outputCol=\"Outlet_Type_Num\")\n",
        "#dfWork = Platform_indexer.fit(dfWork).transform(dfWork)"
      ],
      "metadata": {
        "id": "pWJ84UIfL2iR"
      },
      "execution_count": 104,
      "outputs": []
    },
    {
      "cell_type": "code",
      "source": [
        "#Platform_encoder = OneHotEncoder(inputCol=\"Outlet_Type_Num\", outputCol=\"Outlet_Type_Vector\")\n",
        "#Platform_encoder.setDropLast(False)\n",
        "#dfWork = Platform_encoder.fit(dfWork).transform(dfWork)"
      ],
      "metadata": {
        "id": "srMuq_mSL6EG"
      },
      "execution_count": 105,
      "outputs": []
    },
    {
      "cell_type": "code",
      "source": [
        "#Platform_indexer = StringIndexer(inputCol=\"Outlet_Establishment_Year\", outputCol=\"Outlet_Establishment_Year_Num\")\n",
        "#dfWork = Platform_indexer.fit(dfWork).transform(dfWork)"
      ],
      "metadata": {
        "id": "6Rxh7xxGM8mQ"
      },
      "execution_count": 106,
      "outputs": []
    },
    {
      "cell_type": "code",
      "source": [
        "#Platform_encoder = OneHotEncoder(inputCol=\"Outlet_Establishment_Year_Num\", outputCol=\"Outlet_Establishment_Year_Vector\")\n",
        "#Platform_encoder.setDropLast(False)\n",
        "#dfWork = Platform_encoder.fit(dfWork).transform(dfWork)"
      ],
      "metadata": {
        "id": "5_XFEhBsM-Xj"
      },
      "execution_count": 107,
      "outputs": []
    },
    {
      "cell_type": "code",
      "source": [
        "#dfWork.show(5)"
      ],
      "metadata": {
        "id": "dg2kAyRJDFwL"
      },
      "execution_count": 50,
      "outputs": []
    },
    {
      "cell_type": "markdown",
      "source": [
        "# Pipeline for string indexer, one hot encoder and assembler"
      ],
      "metadata": {
        "id": "XRZlF-LUdmmA"
      }
    },
    {
      "cell_type": "code",
      "source": [
        "from pyspark.ml import Pipeline\n",
        "from pyspark.ml import PipelineModel"
      ],
      "metadata": {
        "id": "cOlqH8vtjfdY"
      },
      "execution_count": 115,
      "outputs": []
    },
    {
      "cell_type": "code",
      "source": [
        "columns_to_index = [\n",
        "    \"Item_Fat_Content\",\n",
        "    \"Item_Type\",\n",
        "    \"Outlet_Identifier\",\n",
        "    \"Outlet_Location_Type\",\n",
        "    \"Outlet_Type\",\n",
        "    \"Outlet_Establishment_Year\"\n",
        "]"
      ],
      "metadata": {
        "id": "hPkK3Vqyqr5G"
      },
      "execution_count": 116,
      "outputs": []
    },
    {
      "cell_type": "code",
      "source": [
        "indexer_stages = [StringIndexer(inputCol=col, outputCol=col+\"_Num\") for col in columns_to_index]"
      ],
      "metadata": {
        "id": "DGGNXdmFqxrF"
      },
      "execution_count": 117,
      "outputs": []
    },
    {
      "cell_type": "code",
      "source": [
        "#pipeline1 = Pipeline(stages=indexer_stages)"
      ],
      "metadata": {
        "id": "Naclw2BGqzIf"
      },
      "execution_count": 70,
      "outputs": []
    },
    {
      "cell_type": "code",
      "source": [
        "#dfwork = pipeline1.fit(df).transform(df)"
      ],
      "metadata": {
        "id": "BPrIgj5hrVtr"
      },
      "execution_count": 71,
      "outputs": []
    },
    {
      "cell_type": "code",
      "source": [
        "#dfwork.show(5)"
      ],
      "metadata": {
        "id": "WWRYumcQrbe2"
      },
      "execution_count": 72,
      "outputs": []
    },
    {
      "cell_type": "code",
      "source": [
        "columns_to_encode = [\n",
        "    \"Item_Fat_Content_Num\",\n",
        "    \"Item_Type_Num\",\n",
        "    \"Outlet_Identifier_Num\",\n",
        "    \"Outlet_Location_Type_Num\",\n",
        "    \"Outlet_Type_Num\",\n",
        "    \"Outlet_Establishment_Year_Num\"\n",
        "]"
      ],
      "metadata": {
        "id": "np7gYM1Fsp96"
      },
      "execution_count": 118,
      "outputs": []
    },
    {
      "cell_type": "code",
      "source": [
        "encoder_stages = [OneHotEncoder(inputCol=col, outputCol=col+\"_Vector\", dropLast=False) for col in columns_to_encode]"
      ],
      "metadata": {
        "id": "wz5TBe2xssPH"
      },
      "execution_count": 119,
      "outputs": []
    },
    {
      "cell_type": "code",
      "source": [
        "#pipeline2 = Pipeline(stages=encoder_stages)"
      ],
      "metadata": {
        "id": "OzDPoSsxswST"
      },
      "execution_count": 73,
      "outputs": []
    },
    {
      "cell_type": "code",
      "source": [
        "#dfwork = pipeline2.fit(dfwork).transform(dfwork)"
      ],
      "metadata": {
        "id": "PYKgDhuevKxX"
      },
      "execution_count": 74,
      "outputs": []
    },
    {
      "cell_type": "code",
      "source": [
        "#dfwork.show(5)"
      ],
      "metadata": {
        "id": "wYJdIASis2eU"
      },
      "execution_count": 75,
      "outputs": []
    },
    {
      "cell_type": "code",
      "source": [
        "input_cols_for_assembler=['Item_Weight',\n",
        "'Item_Visibility',\n",
        "'Item_MRP',\n",
        "'Item_Fat_Content_Num_Vector',\n",
        "'Item_Type_Num_Vector',\n",
        "'Outlet_Identifier_Num_Vector',\n",
        "'Outlet_Location_Type_Num_Vector',\n",
        "'Outlet_Type_Num_Vector',\n",
        "'Outlet_Establishment_Year_Num_Vector']\n",
        ""
      ],
      "metadata": {
        "id": "2yTZHB4CDH-S"
      },
      "execution_count": 120,
      "outputs": []
    },
    {
      "cell_type": "code",
      "source": [
        "F_assembler = VectorAssembler(inputCols=input_cols_for_assembler, outputCol='features')"
      ],
      "metadata": {
        "id": "fZzIUG1fKl8o"
      },
      "execution_count": 121,
      "outputs": []
    },
    {
      "cell_type": "code",
      "source": [
        "#F_assembler.transform(dfwork).show(5)"
      ],
      "metadata": {
        "id": "VdSbYZC_fprK"
      },
      "execution_count": 78,
      "outputs": []
    },
    {
      "cell_type": "code",
      "source": [
        "basePipe = Pipeline(stages=indexer_stages + encoder_stages + [F_assembler])\n",
        "basePipe.fit(df).transform(df).show(3)  # Dataframe after indexing, one hot encoding and assembling"
      ],
      "metadata": {
        "colab": {
          "base_uri": "https://localhost:8080/"
        },
        "id": "v34XsC0cH9By",
        "outputId": "45027d07-fff0-4353-c70b-e511cf2d2ee0"
      },
      "execution_count": 125,
      "outputs": [
        {
          "output_type": "stream",
          "name": "stdout",
          "text": [
            "+-----------+----------------+---------------+---------+--------+-----------------+-------------------------+--------------------+-----------------+-----------------+--------------------+-------------+---------------------+------------------------+---------------+-----------------------------+---------------------------+--------------------+----------------------------+-------------------------------+----------------------+------------------------------------+--------------------+\n",
            "|Item_Weight|Item_Fat_Content|Item_Visibility|Item_Type|Item_MRP|Outlet_Identifier|Outlet_Establishment_Year|Outlet_Location_Type|      Outlet_Type|Item_Outlet_Sales|Item_Fat_Content_Num|Item_Type_Num|Outlet_Identifier_Num|Outlet_Location_Type_Num|Outlet_Type_Num|Outlet_Establishment_Year_Num|Item_Fat_Content_Num_Vector|Item_Type_Num_Vector|Outlet_Identifier_Num_Vector|Outlet_Location_Type_Num_Vector|Outlet_Type_Num_Vector|Outlet_Establishment_Year_Num_Vector|            features|\n",
            "+-----------+----------------+---------------+---------+--------+-----------------+-------------------------+--------------------+-----------------+-----------------+--------------------+-------------+---------------------+------------------------+---------------+-----------------------------+---------------------------+--------------------+----------------------------+-------------------------------+----------------------+------------------------------------+--------------------+\n",
            "|        9.3|              LF|    0.016047301|       FD|249.8092|           OUT049|                     1999|              Tier 1|Supermarket Type1|         3735.138|                 0.0|          0.0|                  4.0|                     2.0|            0.0|                          3.0|              (2,[0],[1.0])|       (3,[0],[1.0])|              (10,[4],[1.0])|                  (3,[2],[1.0])|         (4,[0],[1.0])|                       (9,[3],[1.0])|(34,[0,1,2,3,5,12...|\n",
            "|       5.92|             reg|    0.019278216|       DR| 48.2692|           OUT018|                     2009|              Tier 3|Supermarket Type2|         443.4228|                 1.0|          2.0|                  6.0|                     0.0|            3.0|                          6.0|              (2,[1],[1.0])|       (3,[2],[1.0])|              (10,[6],[1.0])|                  (3,[0],[1.0])|         (4,[3],[1.0])|                       (9,[6],[1.0])|(34,[0,1,2,4,7,14...|\n",
            "|       17.5|              LF|    0.016760075|       FD| 141.618|           OUT049|                     1999|              Tier 1|Supermarket Type1|          2097.27|                 0.0|          0.0|                  4.0|                     2.0|            0.0|                          3.0|              (2,[0],[1.0])|       (3,[0],[1.0])|              (10,[4],[1.0])|                  (3,[2],[1.0])|         (4,[0],[1.0])|                       (9,[3],[1.0])|(34,[0,1,2,3,5,12...|\n",
            "+-----------+----------------+---------------+---------+--------+-----------------+-------------------------+--------------------+-----------------+-----------------+--------------------+-------------+---------------------+------------------------+---------------+-----------------------------+---------------------------+--------------------+----------------------------+-------------------------------+----------------------+------------------------------------+--------------------+\n",
            "only showing top 3 rows\n",
            "\n"
          ]
        }
      ]
    },
    {
      "cell_type": "code",
      "source": [
        "df.show(3) # Dataframe after Preprocessing"
      ],
      "metadata": {
        "colab": {
          "base_uri": "https://localhost:8080/"
        },
        "id": "iHDLCY9kLvBg",
        "outputId": "d49196cb-2b52-4bc8-ba34-a77df9d4a4f9"
      },
      "execution_count": 124,
      "outputs": [
        {
          "output_type": "stream",
          "name": "stdout",
          "text": [
            "+-----------+----------------+---------------+---------+--------+-----------------+-------------------------+--------------------+-----------------+-----------------+\n",
            "|Item_Weight|Item_Fat_Content|Item_Visibility|Item_Type|Item_MRP|Outlet_Identifier|Outlet_Establishment_Year|Outlet_Location_Type|      Outlet_Type|Item_Outlet_Sales|\n",
            "+-----------+----------------+---------------+---------+--------+-----------------+-------------------------+--------------------+-----------------+-----------------+\n",
            "|        9.3|              LF|    0.016047301|       FD|249.8092|           OUT049|                     1999|              Tier 1|Supermarket Type1|         3735.138|\n",
            "|       5.92|             reg|    0.019278216|       DR| 48.2692|           OUT018|                     2009|              Tier 3|Supermarket Type2|         443.4228|\n",
            "|       17.5|              LF|    0.016760075|       FD| 141.618|           OUT049|                     1999|              Tier 1|Supermarket Type1|          2097.27|\n",
            "+-----------+----------------+---------------+---------+--------+-----------------+-------------------------+--------------------+-----------------+-----------------+\n",
            "only showing top 3 rows\n",
            "\n"
          ]
        }
      ]
    },
    {
      "cell_type": "markdown",
      "source": [
        "# Splitting of traing and validation dataset"
      ],
      "metadata": {
        "id": "pSqnTe_Hd5vQ"
      }
    },
    {
      "cell_type": "code",
      "source": [
        "train_df,val_df = df.randomSplit([0.7,0.3])\n",
        "print(train_df.count())\n",
        "print(val_df.count())"
      ],
      "metadata": {
        "colab": {
          "base_uri": "https://localhost:8080/"
        },
        "id": "uSnkdmcHg1EQ",
        "outputId": "ebc707ac-1cdb-4f22-b42b-0b6514ab8b6b"
      },
      "execution_count": 128,
      "outputs": [
        {
          "output_type": "stream",
          "name": "stdout",
          "text": [
            "6013\n",
            "2510\n"
          ]
        }
      ]
    },
    {
      "cell_type": "markdown",
      "source": [
        "# Multiple regression using pipeline"
      ],
      "metadata": {
        "id": "mfJi8tQheDoe"
      }
    },
    {
      "cell_type": "code",
      "source": [
        "from pyspark.ml.regression import LinearRegression"
      ],
      "metadata": {
        "id": "n0DKdWhaNBzh"
      },
      "execution_count": 86,
      "outputs": []
    },
    {
      "cell_type": "code",
      "source": [
        "lr = LinearRegression(labelCol='Item_Outlet_Sales', featuresCol='features', maxIter=5)\n",
        "lr_pipeline = Pipeline(stages=[basePipe, lr])\n",
        "lr_model = lr_pipeline.fit(train_df)\n",
        "lr_predictions = lr_model.transform(val_df)\n",
        "lr_predictions.show(5)\n"
      ],
      "metadata": {
        "id": "9aGtvloMNnNb"
      },
      "execution_count": null,
      "outputs": []
    },
    {
      "cell_type": "code",
      "source": [
        "from pyspark.ml.evaluation import RegressionEvaluator"
      ],
      "metadata": {
        "id": "oAuXPvYNPTaQ"
      },
      "execution_count": 87,
      "outputs": []
    },
    {
      "cell_type": "code",
      "source": [
        "evaluator = RegressionEvaluator(labelCol=\"Item_Outlet_Sales\", predictionCol=\"prediction\", metricName=\"r2\")\n",
        "lr_r2 = evaluator.evaluate(lr_predictions)\n",
        "print(f\"R-squared (explained variance) on validation data: {lr_r2}\")"
      ],
      "metadata": {
        "colab": {
          "base_uri": "https://localhost:8080/"
        },
        "id": "ou8ETgyxP7WQ",
        "outputId": "23edd170-9c30-4d28-8b01-092bf67078cb"
      },
      "execution_count": 126,
      "outputs": [
        {
          "output_type": "stream",
          "name": "stdout",
          "text": [
            "R-squared (explained variance) on validation data: 0.5607712139656048\n"
          ]
        }
      ]
    },
    {
      "cell_type": "markdown",
      "source": [
        "# Random Forest regression using pipeline"
      ],
      "metadata": {
        "id": "jUyHLs0veQKN"
      }
    },
    {
      "cell_type": "code",
      "source": [
        "from pyspark.ml.regression import RandomForestRegressor"
      ],
      "metadata": {
        "id": "TX6NY94TQRfi"
      },
      "execution_count": 89,
      "outputs": []
    },
    {
      "cell_type": "code",
      "source": [
        "rf = RandomForestRegressor(labelCol='Item_Outlet_Sales', featuresCol='features', numTrees=100)\n",
        "rf_pipeline = Pipeline(stages=[basePipe, rf])\n",
        "rf_model = rf_pipeline.fit(train_df)\n",
        "rf_predictions = rf_model.transform(val_df)\n",
        "rf_predictions.show(5)"
      ],
      "metadata": {
        "colab": {
          "base_uri": "https://localhost:8080/"
        },
        "id": "xzfsPVQaQQaA",
        "outputId": "b5ade59e-f895-413e-8f0b-51c6ce6214c1"
      },
      "execution_count": 127,
      "outputs": [
        {
          "output_type": "stream",
          "name": "stdout",
          "text": [
            "+-----------+----------------+---------------+---------+--------+-----------------+-------------------------+--------------------+-----------------+-----------------+--------------------+-------------+---------------------+------------------------+---------------+-----------------------------+---------------------------+--------------------+----------------------------+-------------------------------+----------------------+------------------------------------+--------------------+------------------+\n",
            "|Item_Weight|Item_Fat_Content|Item_Visibility|Item_Type|Item_MRP|Outlet_Identifier|Outlet_Establishment_Year|Outlet_Location_Type|      Outlet_Type|Item_Outlet_Sales|Item_Fat_Content_Num|Item_Type_Num|Outlet_Identifier_Num|Outlet_Location_Type_Num|Outlet_Type_Num|Outlet_Establishment_Year_Num|Item_Fat_Content_Num_Vector|Item_Type_Num_Vector|Outlet_Identifier_Num_Vector|Outlet_Location_Type_Num_Vector|Outlet_Type_Num_Vector|Outlet_Establishment_Year_Num_Vector|            features|        prediction|\n",
            "+-----------+----------------+---------------+---------+--------+-----------------+-------------------------+--------------------+-----------------+-----------------+--------------------+-------------+---------------------+------------------------+---------------+-----------------------------+---------------------------+--------------------+----------------------------+-------------------------------+----------------------+------------------------------------+--------------------+------------------+\n",
            "|      4.555|             reg|    0.034357169|       FD|112.6544|           OUT046|                     1997|              Tier 1|Supermarket Type1|        2684.5056|                 1.0|          0.0|                  1.0|                     2.0|            0.0|                          2.0|              (2,[1],[1.0])|       (3,[0],[1.0])|              (10,[1],[1.0])|                  (3,[2],[1.0])|         (4,[0],[1.0])|                       (9,[2],[1.0])|(34,[0,1,2,4,5,9,...|1813.3818962171633|\n",
            "|      4.555|             reg|    0.034410585|       FD|111.3544|           OUT049|                     1999|              Tier 1|Supermarket Type1|        1342.2528|                 1.0|          0.0|                  2.0|                     2.0|            0.0|                          3.0|              (2,[1],[1.0])|       (3,[0],[1.0])|              (10,[2],[1.0])|                  (3,[2],[1.0])|         (4,[0],[1.0])|                       (9,[3],[1.0])|(34,[0,1,2,4,5,10...|1805.7465461200964|\n",
            "|       4.61|              LF|            0.0|       DR|173.8396|           OUT046|                     1997|              Tier 1|Supermarket Type1|        1221.0772|                 0.0|          2.0|                  1.0|                     2.0|            0.0|                          2.0|              (2,[0],[1.0])|       (3,[2],[1.0])|              (10,[1],[1.0])|                  (3,[2],[1.0])|         (4,[0],[1.0])|                       (9,[2],[1.0])|(34,[0,2,3,7,9,20...|2847.3423792745325|\n",
            "|       4.61|              LF|    0.122843005|       DR|172.4396|           OUT049|                     1999|              Tier 1|Supermarket Type1|        1569.9564|                 0.0|          2.0|                  2.0|                     2.0|            0.0|                          3.0|              (2,[0],[1.0])|       (3,[2],[1.0])|              (10,[2],[1.0])|                  (3,[2],[1.0])|         (4,[0],[1.0])|                       (9,[3],[1.0])|(34,[0,1,2,3,7,10...|2892.8230962302714|\n",
            "|       4.61|              LF|    0.123151947|       DR|175.2396|           OUT018|                     2009|              Tier 3|Supermarket Type2|        2093.2752|                 0.0|          2.0|                  7.0|                     0.0|            3.0|                          7.0|              (2,[0],[1.0])|       (3,[2],[1.0])|              (10,[7],[1.0])|                  (3,[0],[1.0])|         (4,[3],[1.0])|                       (9,[7],[1.0])|(34,[0,1,2,3,7,15...| 2792.772204649618|\n",
            "+-----------+----------------+---------------+---------+--------+-----------------+-------------------------+--------------------+-----------------+-----------------+--------------------+-------------+---------------------+------------------------+---------------+-----------------------------+---------------------------+--------------------+----------------------------+-------------------------------+----------------------+------------------------------------+--------------------+------------------+\n",
            "only showing top 5 rows\n",
            "\n"
          ]
        }
      ]
    },
    {
      "cell_type": "code",
      "source": [
        "evaluator = RegressionEvaluator(labelCol=\"Item_Outlet_Sales\", predictionCol=\"prediction\", metricName=\"r2\")\n",
        "rf_r2 = evaluator.evaluate(rf_predictions)\n",
        "print(f\"R-squared (explained variance) on validation data: {rf_r2}\")"
      ],
      "metadata": {
        "colab": {
          "base_uri": "https://localhost:8080/"
        },
        "id": "JpRB1kcgQcIZ",
        "outputId": "ed2cfd83-e941-43da-e3a5-381a9a5edd98"
      },
      "execution_count": 99,
      "outputs": [
        {
          "output_type": "stream",
          "name": "stdout",
          "text": [
            "R-squared (explained variance) on validation data: 0.5667404021037244\n"
          ]
        }
      ]
    },
    {
      "cell_type": "markdown",
      "source": [
        "# Gradient boosting regression using pipeline"
      ],
      "metadata": {
        "id": "uY-TQuE-eVTw"
      }
    },
    {
      "cell_type": "code",
      "source": [
        "from pyspark.ml.regression import GBTRegressor"
      ],
      "metadata": {
        "id": "ikvG9vBXRB8z"
      },
      "execution_count": 93,
      "outputs": []
    },
    {
      "cell_type": "code",
      "source": [
        "gbt = GBTRegressor(labelCol='Item_Outlet_Sales', featuresCol='features', maxIter=10, maxDepth=5, seed=42)\n",
        "gbt_pipeline = Pipeline(stages=[basePipe, gbt])\n",
        "gbt_model = gbt_pipeline.fit(train_df)\n",
        "gbt_predictions = gbt_model.transform(val_df)\n",
        "gbt_predictions.show(5)"
      ],
      "metadata": {
        "id": "Yko30eGERAUU"
      },
      "execution_count": null,
      "outputs": []
    },
    {
      "cell_type": "code",
      "source": [
        "evaluator = RegressionEvaluator(labelCol=\"Item_Outlet_Sales\", predictionCol=\"prediction\", metricName=\"r2\")\n",
        "gb_r2 = evaluator.evaluate(gbt_predictions)\n",
        "print(f\"R-squared (explained variance) on validation data: {gb_r2}\")"
      ],
      "metadata": {
        "colab": {
          "base_uri": "https://localhost:8080/"
        },
        "id": "MpW2Gr7ZRVqB",
        "outputId": "7e36313f-64de-4b6e-83c4-7a4c948fcc1a"
      },
      "execution_count": 100,
      "outputs": [
        {
          "output_type": "stream",
          "name": "stdout",
          "text": [
            "R-squared (explained variance) on validation data: 0.5951745493860277\n"
          ]
        }
      ]
    },
    {
      "cell_type": "markdown",
      "source": [
        "# Model Accuracy"
      ],
      "metadata": {
        "id": "L9YCBmRGecek"
      }
    },
    {
      "cell_type": "code",
      "source": [
        "import pandas as pd"
      ],
      "metadata": {
        "id": "nz_Pn5c7ZhxW"
      },
      "execution_count": 101,
      "outputs": []
    },
    {
      "cell_type": "code",
      "source": [
        "r2_dict = {'linear_regressor':lr_r2,'randomforest_regressor':rf_r2,'gradientboostingtree_regressor':gb_r2}\n",
        "r2_df = pd.DataFrame(list(r2_dict.items()), columns=['Model', 'R-squared'])"
      ],
      "metadata": {
        "id": "szkN7fRUZufP"
      },
      "execution_count": 109,
      "outputs": []
    },
    {
      "cell_type": "code",
      "source": [
        "r2_df"
      ],
      "metadata": {
        "colab": {
          "base_uri": "https://localhost:8080/",
          "height": 143
        },
        "id": "5G9TMJ7EarMg",
        "outputId": "cc9efdbb-5be3-4db2-98af-1192ccef8191"
      },
      "execution_count": 110,
      "outputs": [
        {
          "output_type": "execute_result",
          "data": {
            "text/plain": [
              "                            Model  R-squared\n",
              "0                linear_regressor   0.560771\n",
              "1          randomforest_regressor   0.566740\n",
              "2  gradientboostingtree_regressor   0.595175"
            ],
            "text/html": [
              "\n",
              "  <div id=\"df-34ec1d85-d19f-4a4f-a2cf-9897d2608506\" class=\"colab-df-container\">\n",
              "    <div>\n",
              "<style scoped>\n",
              "    .dataframe tbody tr th:only-of-type {\n",
              "        vertical-align: middle;\n",
              "    }\n",
              "\n",
              "    .dataframe tbody tr th {\n",
              "        vertical-align: top;\n",
              "    }\n",
              "\n",
              "    .dataframe thead th {\n",
              "        text-align: right;\n",
              "    }\n",
              "</style>\n",
              "<table border=\"1\" class=\"dataframe\">\n",
              "  <thead>\n",
              "    <tr style=\"text-align: right;\">\n",
              "      <th></th>\n",
              "      <th>Model</th>\n",
              "      <th>R-squared</th>\n",
              "    </tr>\n",
              "  </thead>\n",
              "  <tbody>\n",
              "    <tr>\n",
              "      <th>0</th>\n",
              "      <td>linear_regressor</td>\n",
              "      <td>0.560771</td>\n",
              "    </tr>\n",
              "    <tr>\n",
              "      <th>1</th>\n",
              "      <td>randomforest_regressor</td>\n",
              "      <td>0.566740</td>\n",
              "    </tr>\n",
              "    <tr>\n",
              "      <th>2</th>\n",
              "      <td>gradientboostingtree_regressor</td>\n",
              "      <td>0.595175</td>\n",
              "    </tr>\n",
              "  </tbody>\n",
              "</table>\n",
              "</div>\n",
              "    <div class=\"colab-df-buttons\">\n",
              "\n",
              "  <div class=\"colab-df-container\">\n",
              "    <button class=\"colab-df-convert\" onclick=\"convertToInteractive('df-34ec1d85-d19f-4a4f-a2cf-9897d2608506')\"\n",
              "            title=\"Convert this dataframe to an interactive table.\"\n",
              "            style=\"display:none;\">\n",
              "\n",
              "  <svg xmlns=\"http://www.w3.org/2000/svg\" height=\"24px\" viewBox=\"0 -960 960 960\">\n",
              "    <path d=\"M120-120v-720h720v720H120Zm60-500h600v-160H180v160Zm220 220h160v-160H400v160Zm0 220h160v-160H400v160ZM180-400h160v-160H180v160Zm440 0h160v-160H620v160ZM180-180h160v-160H180v160Zm440 0h160v-160H620v160Z\"/>\n",
              "  </svg>\n",
              "    </button>\n",
              "\n",
              "  <style>\n",
              "    .colab-df-container {\n",
              "      display:flex;\n",
              "      gap: 12px;\n",
              "    }\n",
              "\n",
              "    .colab-df-convert {\n",
              "      background-color: #E8F0FE;\n",
              "      border: none;\n",
              "      border-radius: 50%;\n",
              "      cursor: pointer;\n",
              "      display: none;\n",
              "      fill: #1967D2;\n",
              "      height: 32px;\n",
              "      padding: 0 0 0 0;\n",
              "      width: 32px;\n",
              "    }\n",
              "\n",
              "    .colab-df-convert:hover {\n",
              "      background-color: #E2EBFA;\n",
              "      box-shadow: 0px 1px 2px rgba(60, 64, 67, 0.3), 0px 1px 3px 1px rgba(60, 64, 67, 0.15);\n",
              "      fill: #174EA6;\n",
              "    }\n",
              "\n",
              "    .colab-df-buttons div {\n",
              "      margin-bottom: 4px;\n",
              "    }\n",
              "\n",
              "    [theme=dark] .colab-df-convert {\n",
              "      background-color: #3B4455;\n",
              "      fill: #D2E3FC;\n",
              "    }\n",
              "\n",
              "    [theme=dark] .colab-df-convert:hover {\n",
              "      background-color: #434B5C;\n",
              "      box-shadow: 0px 1px 3px 1px rgba(0, 0, 0, 0.15);\n",
              "      filter: drop-shadow(0px 1px 2px rgba(0, 0, 0, 0.3));\n",
              "      fill: #FFFFFF;\n",
              "    }\n",
              "  </style>\n",
              "\n",
              "    <script>\n",
              "      const buttonEl =\n",
              "        document.querySelector('#df-34ec1d85-d19f-4a4f-a2cf-9897d2608506 button.colab-df-convert');\n",
              "      buttonEl.style.display =\n",
              "        google.colab.kernel.accessAllowed ? 'block' : 'none';\n",
              "\n",
              "      async function convertToInteractive(key) {\n",
              "        const element = document.querySelector('#df-34ec1d85-d19f-4a4f-a2cf-9897d2608506');\n",
              "        const dataTable =\n",
              "          await google.colab.kernel.invokeFunction('convertToInteractive',\n",
              "                                                    [key], {});\n",
              "        if (!dataTable) return;\n",
              "\n",
              "        const docLinkHtml = 'Like what you see? Visit the ' +\n",
              "          '<a target=\"_blank\" href=https://colab.research.google.com/notebooks/data_table.ipynb>data table notebook</a>'\n",
              "          + ' to learn more about interactive tables.';\n",
              "        element.innerHTML = '';\n",
              "        dataTable['output_type'] = 'display_data';\n",
              "        await google.colab.output.renderOutput(dataTable, element);\n",
              "        const docLink = document.createElement('div');\n",
              "        docLink.innerHTML = docLinkHtml;\n",
              "        element.appendChild(docLink);\n",
              "      }\n",
              "    </script>\n",
              "  </div>\n",
              "\n",
              "\n",
              "<div id=\"df-4619c7bc-7c97-4d4f-b81f-f6f4a10b7bba\">\n",
              "  <button class=\"colab-df-quickchart\" onclick=\"quickchart('df-4619c7bc-7c97-4d4f-b81f-f6f4a10b7bba')\"\n",
              "            title=\"Suggest charts\"\n",
              "            style=\"display:none;\">\n",
              "\n",
              "<svg xmlns=\"http://www.w3.org/2000/svg\" height=\"24px\"viewBox=\"0 0 24 24\"\n",
              "     width=\"24px\">\n",
              "    <g>\n",
              "        <path d=\"M19 3H5c-1.1 0-2 .9-2 2v14c0 1.1.9 2 2 2h14c1.1 0 2-.9 2-2V5c0-1.1-.9-2-2-2zM9 17H7v-7h2v7zm4 0h-2V7h2v10zm4 0h-2v-4h2v4z\"/>\n",
              "    </g>\n",
              "</svg>\n",
              "  </button>\n",
              "\n",
              "<style>\n",
              "  .colab-df-quickchart {\n",
              "      --bg-color: #E8F0FE;\n",
              "      --fill-color: #1967D2;\n",
              "      --hover-bg-color: #E2EBFA;\n",
              "      --hover-fill-color: #174EA6;\n",
              "      --disabled-fill-color: #AAA;\n",
              "      --disabled-bg-color: #DDD;\n",
              "  }\n",
              "\n",
              "  [theme=dark] .colab-df-quickchart {\n",
              "      --bg-color: #3B4455;\n",
              "      --fill-color: #D2E3FC;\n",
              "      --hover-bg-color: #434B5C;\n",
              "      --hover-fill-color: #FFFFFF;\n",
              "      --disabled-bg-color: #3B4455;\n",
              "      --disabled-fill-color: #666;\n",
              "  }\n",
              "\n",
              "  .colab-df-quickchart {\n",
              "    background-color: var(--bg-color);\n",
              "    border: none;\n",
              "    border-radius: 50%;\n",
              "    cursor: pointer;\n",
              "    display: none;\n",
              "    fill: var(--fill-color);\n",
              "    height: 32px;\n",
              "    padding: 0;\n",
              "    width: 32px;\n",
              "  }\n",
              "\n",
              "  .colab-df-quickchart:hover {\n",
              "    background-color: var(--hover-bg-color);\n",
              "    box-shadow: 0 1px 2px rgba(60, 64, 67, 0.3), 0 1px 3px 1px rgba(60, 64, 67, 0.15);\n",
              "    fill: var(--button-hover-fill-color);\n",
              "  }\n",
              "\n",
              "  .colab-df-quickchart-complete:disabled,\n",
              "  .colab-df-quickchart-complete:disabled:hover {\n",
              "    background-color: var(--disabled-bg-color);\n",
              "    fill: var(--disabled-fill-color);\n",
              "    box-shadow: none;\n",
              "  }\n",
              "\n",
              "  .colab-df-spinner {\n",
              "    border: 2px solid var(--fill-color);\n",
              "    border-color: transparent;\n",
              "    border-bottom-color: var(--fill-color);\n",
              "    animation:\n",
              "      spin 1s steps(1) infinite;\n",
              "  }\n",
              "\n",
              "  @keyframes spin {\n",
              "    0% {\n",
              "      border-color: transparent;\n",
              "      border-bottom-color: var(--fill-color);\n",
              "      border-left-color: var(--fill-color);\n",
              "    }\n",
              "    20% {\n",
              "      border-color: transparent;\n",
              "      border-left-color: var(--fill-color);\n",
              "      border-top-color: var(--fill-color);\n",
              "    }\n",
              "    30% {\n",
              "      border-color: transparent;\n",
              "      border-left-color: var(--fill-color);\n",
              "      border-top-color: var(--fill-color);\n",
              "      border-right-color: var(--fill-color);\n",
              "    }\n",
              "    40% {\n",
              "      border-color: transparent;\n",
              "      border-right-color: var(--fill-color);\n",
              "      border-top-color: var(--fill-color);\n",
              "    }\n",
              "    60% {\n",
              "      border-color: transparent;\n",
              "      border-right-color: var(--fill-color);\n",
              "    }\n",
              "    80% {\n",
              "      border-color: transparent;\n",
              "      border-right-color: var(--fill-color);\n",
              "      border-bottom-color: var(--fill-color);\n",
              "    }\n",
              "    90% {\n",
              "      border-color: transparent;\n",
              "      border-bottom-color: var(--fill-color);\n",
              "    }\n",
              "  }\n",
              "</style>\n",
              "\n",
              "  <script>\n",
              "    async function quickchart(key) {\n",
              "      const quickchartButtonEl =\n",
              "        document.querySelector('#' + key + ' button');\n",
              "      quickchartButtonEl.disabled = true;  // To prevent multiple clicks.\n",
              "      quickchartButtonEl.classList.add('colab-df-spinner');\n",
              "      try {\n",
              "        const charts = await google.colab.kernel.invokeFunction(\n",
              "            'suggestCharts', [key], {});\n",
              "      } catch (error) {\n",
              "        console.error('Error during call to suggestCharts:', error);\n",
              "      }\n",
              "      quickchartButtonEl.classList.remove('colab-df-spinner');\n",
              "      quickchartButtonEl.classList.add('colab-df-quickchart-complete');\n",
              "    }\n",
              "    (() => {\n",
              "      let quickchartButtonEl =\n",
              "        document.querySelector('#df-4619c7bc-7c97-4d4f-b81f-f6f4a10b7bba button');\n",
              "      quickchartButtonEl.style.display =\n",
              "        google.colab.kernel.accessAllowed ? 'block' : 'none';\n",
              "    })();\n",
              "  </script>\n",
              "</div>\n",
              "    </div>\n",
              "  </div>\n"
            ]
          },
          "metadata": {},
          "execution_count": 110
        }
      ]
    }
  ]
}